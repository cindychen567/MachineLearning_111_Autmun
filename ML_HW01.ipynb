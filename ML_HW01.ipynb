{
 "cells": [
  {
   "cell_type": "code",
   "execution_count": 360,
   "metadata": {},
   "outputs": [],
   "source": [
    "import numpy as np\n",
    "import pandas as pd\n",
    "import matplotlib.pyplot as plt"
   ]
  },
  {
   "cell_type": "code",
   "execution_count": 264,
   "metadata": {},
   "outputs": [],
   "source": [
    "class LSE:\n",
    "    def __init__(self , x , y , n , l):\n",
    "        self.x = x\n",
    "        self.y = y\n",
    "        self.n = n\n",
    "        self.Lambda = l\n",
    "        self.x_table = self.createtable(x)\n",
    "        self.Beta = self.__calculatebeta(x , y)\n",
    "        self.error = self.__calerror(x , y)\n",
    "\n",
    "    def createtable(self,x):\n",
    "        x_table = np.zeros((len(x),self.n) , dtype = np.float32)\n",
    "        for i in range(self.n):\n",
    "            x_table[:,i] = x**i\n",
    "        return x_table\n",
    "\n",
    "    \n",
    "    def __calculatebeta(self , x , y):\n",
    "        A = np.zeros((self.n,self.n) , dtype = np.float32)\n",
    "        for i in range(self.n):\n",
    "            for j in range(self.n):\n",
    "                times = i+j\n",
    "                A[i,j] = (x**times).sum()\n",
    "                if i == j:\n",
    "                    A[i,j] += self.Lambda\n",
    "        \n",
    "        Inv = self.LUdecompose(A)\n",
    "        \n",
    "        return Inv@self.x_table.T@y\n",
    "\n",
    "    def LUdecompose(self , A):\n",
    "        U = A.copy()\n",
    "        L = np.array([[float(i == j) for i in range(self.n)] for j in range(self.n)])\n",
    "\n",
    "        for i in range(self.n):\n",
    "            factor = U[i+1:, i] / U[i, i]\n",
    "            L[i+1:, i] = factor\n",
    "            U[i+1:] -= factor[:, np.newaxis] * U[i]\n",
    "\n",
    "        inv_L , inv_U = L.copy() , U.copy()\n",
    "        I_L = np.array([[float(i == j) for i in range(len(L))] for j in range(len(L))])\n",
    "        I_U = np.array([[float(i == j) for i in range(len(L))] for j in range(len(L))])\n",
    "\n",
    "        for i in range(len(inv_L)):\n",
    "            factor = inv_L[i+1:, i] / inv_L[i, i]\n",
    "            I_L[i+1:,:] -= factor[:, np.newaxis]*I_L[i,:]\n",
    "\n",
    "        for i in range(len(inv_U)-1 , -1 , -1):\n",
    "            factor = inv_U[0:i,i] / inv_U[i,i]\n",
    "            I_U[:i,:] -= factor[: , np.newaxis]*I_U[i,:]\n",
    "            if inv_U[i,i] != 1:\n",
    "                I_U[i,:] /= inv_U[i,i]\n",
    "        \n",
    "        return I_U@I_L\n",
    "                \n",
    "\n",
    "    def __calerror(self , x , y):\n",
    "        estimate = self.x_table@self.Beta.T\n",
    "        error = sum((y - estimate)**2)\n",
    "        return error\n",
    "    \n",
    "\n",
    "    "
   ]
  },
  {
   "cell_type": "code",
   "execution_count": 331,
   "metadata": {},
   "outputs": [],
   "source": [
    "class Newton:\n",
    "    def __init__(self , x , y ,n):\n",
    "        self.x = x\n",
    "        self.y = y\n",
    "        self.n = n\n",
    "        self.x_table = self.createtable(x)\n",
    "        self.Beta = self.__calculatebeta()\n",
    "        self.error = self.__calerror()\n",
    "\n",
    "    def createtable(self,x):\n",
    "        x_table = np.zeros((len(x),self.n) , dtype = np.float32)\n",
    "        for i in range(self.n):\n",
    "            x_table[:,i] = x**i\n",
    "        return x_table\n",
    "\n",
    "    def __calculatebeta(self):\n",
    "        Hessian = self.x_table.T@self.x_table\n",
    "        Mat = Hessian.copy()\n",
    "        pviot_m = np.array([[float(i==j) for i in range(self.n)] for j in range(self.n)])\n",
    "\n",
    "        for i in range(self.n):\n",
    "            factor = Hessian[i+1:, i] / Hessian[i, i]\n",
    "            pviot_m[i+1:,:] -= factor[:, np.newaxis]*pviot_m[i,:]\n",
    "            Hessian[i+1:,:] -= factor[:, np.newaxis]*Hessian[i,:]\n",
    "\n",
    "        for i in range(self.n-1 , -1 , -1):\n",
    "            factor = Hessian[0:i,i] / Hessian[i,i]\n",
    "            pviot_m[:i,:] -= factor[: , np.newaxis]*pviot_m[i,:]\n",
    "            Hessian[:i,:] -= factor[: , np.newaxis]*Hessian[i,:]\n",
    "            if Hessian[i,i] != 1:\n",
    "                pviot_m[i,:] /= Hessian[i,i]\n",
    "                Hessian[i,i] /= Hessian[i,i]\n",
    "        \n",
    "        return pviot_m@self.x_table.T@self.y\n",
    "\n",
    "    def __calerror(self):\n",
    "        estimate = self.x_table@self.Beta.T\n",
    "        error = sum((y - estimate)**2)\n",
    "        return error\n"
   ]
  },
  {
   "cell_type": "code",
   "execution_count": 377,
   "metadata": {},
   "outputs": [],
   "source": [
    "def show_plot(x , y , coef1 , coef2):\n",
    "    LSE = np.poly1d(coef1[::-1])\n",
    "    New = np.poly1d(coef2[::-1])\n",
    "\n",
    "    linespace = np.linspace(int(x.min()), int(x.max()), int(y.max()))\n",
    "    plt.scatter(x , y)\n",
    "    plt.plot(linespace, LSE(linespace))\n",
    "    plt.show()\n",
    "\n",
    "    plt.scatter(x , y)\n",
    "    plt.plot(linespace, New(linespace), color = 'red')\n",
    "    plt.show()\n"
   ]
  },
  {
   "cell_type": "code",
   "execution_count": 380,
   "metadata": {},
   "outputs": [
    {
     "name": "stdout",
     "output_type": "stream",
     "text": [
      "LSE: \n",
      "Fitting Line: 29.306404661816913x^0 + 4.432950302508808x^1 \n",
      "Total error: 16335.12323087678\n",
      "Newton Method: \n",
      "Fitting Line: 29.306404937685414x^0 + 4.432949918655585x^1 \n",
      "Total error: 16335.123230876805\n"
     ]
    },
    {
     "data": {
      "image/png": "[encoded data removed]",
      "text/plain": [
       "<Figure size 640x480 with 1 Axes>"
      ]
     },
     "metadata": {},
     "output_type": "display_data"
    },
    {
     "data": {
      "image/png": "[encoded data removed]",
      "text/plain": [
       "<Figure size 640x480 with 1 Axes>"
      ]
     },
     "metadata": {},
     "output_type": "display_data"
    }
   ],
   "source": [
    "if __name__ == '__main__':\n",
    "    colnames = ['x' , 'y']\n",
    "    data = pd.read_csv('testfile.txt' , sep = ',' , header = None , names = colnames)\n",
    "    x = np.array(data['x'])\n",
    "    y = np.array(data['y'])\n",
    "    n = 2\n",
    "    l = 0\n",
    "\n",
    "    model1 = LSE(x , y , n , l)\n",
    "    model2 = Newton(x , y , n)\n",
    "\n",
    "    fit_LSE = ' + '.join([f'{j}x^{i}' for i , j in enumerate(model1.Beta)])\n",
    "    fit_New = ' + '.join([f'{j}x^{i}' for i , j in enumerate(model2.Beta)])\n",
    "    print(f'LSE: \\nFitting Line: {fit_LSE} \\nTotal error: {model1.error}')\n",
    "    print(f'Newton Method: \\nFitting Line: {fit_New} \\nTotal error: {model2.error}')\n",
    "\n",
    "    show_plot(x , y , model1.Beta , model2.Beta)  "
   ]
  },
  {
   "cell_type": "code",
   "execution_count": null,
   "metadata": {},
   "outputs": [],
   "source": []
  }
 ],
 "metadata": {
  "kernelspec": {
   "display_name": "Python 3.6.9 64-bit",
   "language": "python",
   "name": "python3"
  },
  "language_info": {
   "codemirror_mode": {
    "name": "ipython",
    "version": 3
   },
   "file_extension": ".py",
   "mimetype": "text/x-python",
   "name": "python",
   "nbconvert_exporter": "python",
   "pygments_lexer": "ipython3",
   "version": "3.9.6"
  },
  "orig_nbformat": 4,
  "vscode": {
   "interpreter": {
    "hash": "31f2aee4e71d21fbe5cf8b01ff0e069b9275f58929596ceb00d14d90e3e16cd6"
   }
  }
 },
 "nbformat": 4,
 "nbformat_minor": 2
}
